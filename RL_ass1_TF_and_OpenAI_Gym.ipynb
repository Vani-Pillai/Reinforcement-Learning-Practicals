{
  "nbformat": 4,
  "nbformat_minor": 0,
  "metadata": {
    "colab": {
      "provenance": []
    },
    "kernelspec": {
      "name": "python3",
      "display_name": "Python 3"
    },
    "language_info": {
      "name": "python"
    }
  },
  "cells": [
    {
      "cell_type": "code",
      "execution_count": 1,
      "metadata": {
        "id": "ZG-iLR2TQxVa"
      },
      "outputs": [],
      "source": [
        "import tensorflow as tf\n",
        "import gymnasium as gym\n",
        "import numpy as np\n",
        "import matplotlib.pyplot as plt"
      ]
    },
    {
      "cell_type": "code",
      "source": [
        "# Create environment\n",
        "env = gym.make('CartPole-v1')\n",
        "state_size = env.observation_space.shape[0] # 4 values: position,velocity, angle, angular velocity\n",
        "action_size = env.action_space.n # 2 actions: move left or right"
      ],
      "metadata": {
        "id": "0S2mnab7Q3Dz"
      },
      "execution_count": 3,
      "outputs": []
    },
    {
      "cell_type": "code",
      "source": [
        "# Build a smaller model\n",
        "model = tf.keras.Sequential([\n",
        " tf.keras.layers.Dense(12, input_dim=state_size,\n",
        "activation='relu'),\n",
        " tf.keras.layers.Dense(action_size, activation='linear')\n",
        "])\n",
        "model.compile(loss='mse',\n",
        "optimizer=tf.keras.optimizers.Adam(learning_rate=0.001))\n",
        "model.summary()\n"
      ],
      "metadata": {
        "colab": {
          "base_uri": "https://localhost:8080/",
          "height": 249
        },
        "id": "afJ2rowJRFRJ",
        "outputId": "f5404cfa-8902-4e32-daf8-f39cef6d4879"
      },
      "execution_count": 4,
      "outputs": [
        {
          "output_type": "stream",
          "name": "stderr",
          "text": [
            "/usr/local/lib/python3.11/dist-packages/keras/src/layers/core/dense.py:87: UserWarning: Do not pass an `input_shape`/`input_dim` argument to a layer. When using Sequential models, prefer using an `Input(shape)` object as the first layer in the model instead.\n",
            "  super().__init__(activity_regularizer=activity_regularizer, **kwargs)\n"
          ]
        },
        {
          "output_type": "display_data",
          "data": {
            "text/plain": [
              "\u001b[1mModel: \"sequential\"\u001b[0m\n"
            ],
            "text/html": [
              "<pre style=\"white-space:pre;overflow-x:auto;line-height:normal;font-family:Menlo,'DejaVu Sans Mono',consolas,'Courier New',monospace\"><span style=\"font-weight: bold\">Model: \"sequential\"</span>\n",
              "</pre>\n"
            ]
          },
          "metadata": {}
        },
        {
          "output_type": "display_data",
          "data": {
            "text/plain": [
              "┏━━━━━━━━━━━━━━━━━━━━━━━━━━━━━━━━━┳━━━━━━━━━━━━━━━━━━━━━━━━┳━━━━━━━━━━━━━━━┓\n",
              "┃\u001b[1m \u001b[0m\u001b[1mLayer (type)                   \u001b[0m\u001b[1m \u001b[0m┃\u001b[1m \u001b[0m\u001b[1mOutput Shape          \u001b[0m\u001b[1m \u001b[0m┃\u001b[1m \u001b[0m\u001b[1m      Param #\u001b[0m\u001b[1m \u001b[0m┃\n",
              "┡━━━━━━━━━━━━━━━━━━━━━━━━━━━━━━━━━╇━━━━━━━━━━━━━━━━━━━━━━━━╇━━━━━━━━━━━━━━━┩\n",
              "│ dense (\u001b[38;5;33mDense\u001b[0m)                   │ (\u001b[38;5;45mNone\u001b[0m, \u001b[38;5;34m12\u001b[0m)             │            \u001b[38;5;34m60\u001b[0m │\n",
              "├─────────────────────────────────┼────────────────────────┼───────────────┤\n",
              "│ dense_1 (\u001b[38;5;33mDense\u001b[0m)                 │ (\u001b[38;5;45mNone\u001b[0m, \u001b[38;5;34m2\u001b[0m)              │            \u001b[38;5;34m26\u001b[0m │\n",
              "└─────────────────────────────────┴────────────────────────┴───────────────┘\n"
            ],
            "text/html": [
              "<pre style=\"white-space:pre;overflow-x:auto;line-height:normal;font-family:Menlo,'DejaVu Sans Mono',consolas,'Courier New',monospace\">┏━━━━━━━━━━━━━━━━━━━━━━━━━━━━━━━━━┳━━━━━━━━━━━━━━━━━━━━━━━━┳━━━━━━━━━━━━━━━┓\n",
              "┃<span style=\"font-weight: bold\"> Layer (type)                    </span>┃<span style=\"font-weight: bold\"> Output Shape           </span>┃<span style=\"font-weight: bold\">       Param # </span>┃\n",
              "┡━━━━━━━━━━━━━━━━━━━━━━━━━━━━━━━━━╇━━━━━━━━━━━━━━━━━━━━━━━━╇━━━━━━━━━━━━━━━┩\n",
              "│ dense (<span style=\"color: #0087ff; text-decoration-color: #0087ff\">Dense</span>)                   │ (<span style=\"color: #00d7ff; text-decoration-color: #00d7ff\">None</span>, <span style=\"color: #00af00; text-decoration-color: #00af00\">12</span>)             │            <span style=\"color: #00af00; text-decoration-color: #00af00\">60</span> │\n",
              "├─────────────────────────────────┼────────────────────────┼───────────────┤\n",
              "│ dense_1 (<span style=\"color: #0087ff; text-decoration-color: #0087ff\">Dense</span>)                 │ (<span style=\"color: #00d7ff; text-decoration-color: #00d7ff\">None</span>, <span style=\"color: #00af00; text-decoration-color: #00af00\">2</span>)              │            <span style=\"color: #00af00; text-decoration-color: #00af00\">26</span> │\n",
              "└─────────────────────────────────┴────────────────────────┴───────────────┘\n",
              "</pre>\n"
            ]
          },
          "metadata": {}
        },
        {
          "output_type": "display_data",
          "data": {
            "text/plain": [
              "\u001b[1m Total params: \u001b[0m\u001b[38;5;34m86\u001b[0m (344.00 B)\n"
            ],
            "text/html": [
              "<pre style=\"white-space:pre;overflow-x:auto;line-height:normal;font-family:Menlo,'DejaVu Sans Mono',consolas,'Courier New',monospace\"><span style=\"font-weight: bold\"> Total params: </span><span style=\"color: #00af00; text-decoration-color: #00af00\">86</span> (344.00 B)\n",
              "</pre>\n"
            ]
          },
          "metadata": {}
        },
        {
          "output_type": "display_data",
          "data": {
            "text/plain": [
              "\u001b[1m Trainable params: \u001b[0m\u001b[38;5;34m86\u001b[0m (344.00 B)\n"
            ],
            "text/html": [
              "<pre style=\"white-space:pre;overflow-x:auto;line-height:normal;font-family:Menlo,'DejaVu Sans Mono',consolas,'Courier New',monospace\"><span style=\"font-weight: bold\"> Trainable params: </span><span style=\"color: #00af00; text-decoration-color: #00af00\">86</span> (344.00 B)\n",
              "</pre>\n"
            ]
          },
          "metadata": {}
        },
        {
          "output_type": "display_data",
          "data": {
            "text/plain": [
              "\u001b[1m Non-trainable params: \u001b[0m\u001b[38;5;34m0\u001b[0m (0.00 B)\n"
            ],
            "text/html": [
              "<pre style=\"white-space:pre;overflow-x:auto;line-height:normal;font-family:Menlo,'DejaVu Sans Mono',consolas,'Courier New',monospace\"><span style=\"font-weight: bold\"> Non-trainable params: </span><span style=\"color: #00af00; text-decoration-color: #00af00\">0</span> (0.00 B)\n",
              "</pre>\n"
            ]
          },
          "metadata": {}
        }
      ]
    },
    {
      "cell_type": "code",
      "source": [
        "# Training parameters - REDUCED FOR SPEED\n",
        "epsilon = 1.0 # Exploration rate\n",
        "epsilon_decay = 0.9 # Faster decay\n",
        "epsilon_min = 0.1\n",
        "gamma = 0.95 # Discount factor\n",
        "memory = []\n",
        "batch_size = 16 # Smaller batch\n",
        "episodes = 10 # Fewer episodes\n",
        "\n",
        "# Track scores for plotting\n",
        "scores = []"
      ],
      "metadata": {
        "id": "-wtjCiXkW7B-"
      },
      "execution_count": 5,
      "outputs": []
    },
    {
      "cell_type": "code",
      "source": [
        "# Training loop\n",
        "for episode in range(episodes):\n",
        "  # Reset environment\n",
        "  state, _ = env.reset()\n",
        "  state = np.reshape(state, [1, state_size])\n",
        "  done = False\n",
        "  score = 0\n",
        "  # Limit steps per episode for speed\n",
        "  max_steps = 200\n",
        "\n",
        "  for step in range(max_steps):\n",
        "    # Choose action: explore or exploit\n",
        "    if np.random.rand() <= epsilon:\n",
        "      action = env.action_space.sample() # Explore\n",
        "    else:\n",
        "      action_values = model.predict(state, verbose=0)\n",
        "      action = np.argmax(action_values[0]) # Exploit\n",
        "    # Take action\n",
        "    next_state, reward, terminated, truncated, _ = env.step(action)\n",
        "    done = terminated or truncated\n",
        "    next_state = np.reshape(next_state, [1, state_size])\n",
        "    score += reward\n",
        "\n",
        "    # Store experience\n",
        "    memory.append((state, action, reward, next_state, done))\n",
        "    state = next_state\n",
        "\n",
        "    # Train model - only train every 4 steps for speed\n",
        "    if len(memory) > batch_size and step % 4 == 0:\n",
        "      # Sample random batch from memory\n",
        "      batch = np.random.choice(len(memory), batch_size,replace=False)\n",
        "      for i in batch:\n",
        "        s, a, r, next_s, d = memory[i]\n",
        "        # Q-learning formula\n",
        "        target = r\n",
        "        if not d:\n",
        "          target = r + gamma * np.amax(model.predict(next_s,verbose=0)[0])\n",
        "        target_f = model.predict(s, verbose=0)\n",
        "        target_f[0][a] = target\n",
        "        # Train network with a single sample\n",
        "        model.fit(s, target_f, epochs=1, verbose=0)\n",
        "    if done:\n",
        "      break\n",
        "\n",
        "  # Reduce exploration faster\n",
        "  epsilon = max(epsilon_min, epsilon * epsilon_decay)\n",
        "  scores.append(score)\n",
        "  print(f\"Episode: {episode+1}/{episodes}, Score: {score}, Epsilon:{epsilon:.2f}\")\n",
        "# Plot results\n",
        "plt.figure(figsize=(8, 4))\n",
        "plt.plot(scores)\n",
        "plt.title('Training Progress')\n",
        "plt.xlabel('Episodes')\n",
        "plt.ylabel('Score')\n",
        "plt.grid(True)\n",
        "plt.show()"
      ],
      "metadata": {
        "colab": {
          "base_uri": "https://localhost:8080/",
          "height": 592
        },
        "id": "y_Hy3pAgXBPR",
        "outputId": "c6c9c565-3086-48f2-b7b1-4785d199675f"
      },
      "execution_count": 6,
      "outputs": [
        {
          "output_type": "stream",
          "name": "stdout",
          "text": [
            "Episode: 1/10, Score: 18.0, Epsilon:0.90\n",
            "Episode: 2/10, Score: 26.0, Epsilon:0.81\n",
            "Episode: 3/10, Score: 17.0, Epsilon:0.73\n",
            "Episode: 4/10, Score: 46.0, Epsilon:0.66\n",
            "Episode: 5/10, Score: 96.0, Epsilon:0.59\n",
            "Episode: 6/10, Score: 25.0, Epsilon:0.53\n",
            "Episode: 7/10, Score: 12.0, Epsilon:0.48\n",
            "Episode: 8/10, Score: 16.0, Epsilon:0.43\n",
            "Episode: 9/10, Score: 16.0, Epsilon:0.39\n",
            "Episode: 10/10, Score: 15.0, Epsilon:0.35\n"
          ]
        },
        {
          "output_type": "display_data",
          "data": {
            "text/plain": [
              "<Figure size 800x400 with 1 Axes>"
            ],
            "image/png": "[encoded data removed]"
          },
          "metadata": {}
        }
      ]
    },
    {
      "cell_type": "code",
      "source": [
        "# Quick test of trained model\n",
        "print(\"\\nTesting trained model...\")\n",
        "state, _ = env.reset()\n",
        "state = np.reshape(state, [1, state_size])\n",
        "done = False\n",
        "score = 0\n",
        "for _ in range(200): # Limit test steps\n",
        "  action_values = model.predict(state, verbose=0)\n",
        "  action = np.argmax(action_values[0])\n",
        "  next_state, reward, terminated, truncated, _ = env.step(action)\n",
        "  done = terminated or truncated\n",
        "  state = np.reshape(next_state, [1, state_size])\n",
        "  score += reward\n",
        "  if done:\n",
        "    break\n",
        "\n",
        "print(f\"Test score: {score}\")\n",
        "env.close()"
      ],
      "metadata": {
        "colab": {
          "base_uri": "https://localhost:8080/"
        },
        "id": "vBsLw_3wYLsz",
        "outputId": "065a45a8-718f-4d13-9210-82795de66398"
      },
      "execution_count": 7,
      "outputs": [
        {
          "output_type": "stream",
          "name": "stdout",
          "text": [
            "\n",
            "Testing trained model...\n",
            "Test score: 13.0\n"
          ]
        }
      ]
    },
    {
      "cell_type": "code",
      "source": [],
      "metadata": {
        "id": "Tj78eMGuakwX"
      },
      "execution_count": null,
      "outputs": []
    }
  ]
}